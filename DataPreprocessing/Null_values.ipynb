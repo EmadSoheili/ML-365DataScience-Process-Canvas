{
 "cells": [
  {
   "cell_type": "code",
   "execution_count": 1,
   "id": "341875bc-be7e-418d-bcab-22b550a1c403",
   "metadata": {},
   "outputs": [],
   "source": [
    "# Import libraries\n",
    "\n",
    "import pandas as pd\n",
    "import numpy as np\n",
    "from scipy import stats\n",
    "from sklearn.experimental import enable_iterative_imputer\n",
    "from sklearn.impute import IterativeImputer, KNNImputer\n",
    "from sklearn.linear_model import LinearRegression\n",
    "import random"
   ]
  },
  {
   "cell_type": "code",
   "execution_count": 2,
   "id": "bc612b11-b90b-4f6d-93f7-7927766e0a81",
   "metadata": {},
   "outputs": [
    {
     "data": {
      "text/html": [
       "<div>\n",
       "<style scoped>\n",
       "    .dataframe tbody tr th:only-of-type {\n",
       "        vertical-align: middle;\n",
       "    }\n",
       "\n",
       "    .dataframe tbody tr th {\n",
       "        vertical-align: top;\n",
       "    }\n",
       "\n",
       "    .dataframe thead th {\n",
       "        text-align: right;\n",
       "    }\n",
       "</style>\n",
       "<table border=\"1\" class=\"dataframe\">\n",
       "  <thead>\n",
       "    <tr style=\"text-align: right;\">\n",
       "      <th></th>\n",
       "      <th>Unnamed: 0</th>\n",
       "      <th>id</th>\n",
       "      <th>age</th>\n",
       "      <th>gender</th>\n",
       "      <th>income</th>\n",
       "      <th>days_on_platform</th>\n",
       "      <th>city</th>\n",
       "      <th>purchases</th>\n",
       "      <th>lifetime_value</th>\n",
       "    </tr>\n",
       "  </thead>\n",
       "  <tbody>\n",
       "    <tr>\n",
       "      <th>0</th>\n",
       "      <td>0</td>\n",
       "      <td>0</td>\n",
       "      <td>NaN</td>\n",
       "      <td>Male</td>\n",
       "      <td>126895</td>\n",
       "      <td>14.0</td>\n",
       "      <td>San Francisco</td>\n",
       "      <td>0</td>\n",
       "      <td>0</td>\n",
       "    </tr>\n",
       "    <tr>\n",
       "      <th>1</th>\n",
       "      <td>1</td>\n",
       "      <td>1</td>\n",
       "      <td>NaN</td>\n",
       "      <td>Male</td>\n",
       "      <td>161474</td>\n",
       "      <td>14.0</td>\n",
       "      <td>Tokyo</td>\n",
       "      <td>0</td>\n",
       "      <td>0</td>\n",
       "    </tr>\n",
       "    <tr>\n",
       "      <th>2</th>\n",
       "      <td>2</td>\n",
       "      <td>2</td>\n",
       "      <td>24.0</td>\n",
       "      <td>Male</td>\n",
       "      <td>104723</td>\n",
       "      <td>34.0</td>\n",
       "      <td>London</td>\n",
       "      <td>1</td>\n",
       "      <td>20</td>\n",
       "    </tr>\n",
       "  </tbody>\n",
       "</table>\n",
       "</div>"
      ],
      "text/plain": [
       "   Unnamed: 0  id   age gender  income  days_on_platform           city  \\\n",
       "0           0   0   NaN   Male  126895              14.0  San Francisco   \n",
       "1           1   1   NaN   Male  161474              14.0          Tokyo   \n",
       "2           2   2  24.0   Male  104723              34.0         London   \n",
       "\n",
       "   purchases  lifetime_value  \n",
       "0          0               0  \n",
       "1          0               0  \n",
       "2          1              20  "
      ]
     },
     "execution_count": 2,
     "metadata": {},
     "output_type": "execute_result"
    }
   ],
   "source": [
    "# Load data\n",
    "\n",
    "df = pd.read_csv('clv_data.csv')\n",
    "\n",
    "# It is not the correct way to calculate lifetime value but as an example, we take a very simple approach to multiply purchases by 20.\n",
    "df['lifetime_value'] = df['purchases']*20\n",
    "\n",
    "df.head(3)"
   ]
  },
  {
   "cell_type": "code",
   "execution_count": 3,
   "id": "8473358a-9463-4a58-8f34-d8f9e1b0cf49",
   "metadata": {},
   "outputs": [
    {
     "data": {
      "text/plain": [
       "Unnamed: 0             0\n",
       "id                     0\n",
       "age                 2446\n",
       "gender                 0\n",
       "income                 0\n",
       "days_on_platform     141\n",
       "city                   0\n",
       "purchases              0\n",
       "lifetime_value         0\n",
       "dtype: int64"
      ]
     },
     "execution_count": 3,
     "metadata": {},
     "output_type": "execute_result"
    }
   ],
   "source": [
    "#Number of nulls\n",
    "\n",
    "df.isnull().sum()"
   ]
  },
  {
   "cell_type": "code",
   "execution_count": 4,
   "id": "91bf67cc-a2c5-4c6d-94ac-23b1703905df",
   "metadata": {},
   "outputs": [
    {
     "data": {
      "text/plain": [
       "5000"
      ]
     },
     "execution_count": 4,
     "metadata": {},
     "output_type": "execute_result"
    }
   ],
   "source": [
    "# All data points\n",
    "\n",
    "len(df)"
   ]
  },
  {
   "cell_type": "code",
   "execution_count": 5,
   "id": "d1a01d99-c705-44c4-9774-9ba08def50ae",
   "metadata": {},
   "outputs": [
    {
     "data": {
      "text/plain": [
       "Unnamed: 0          0\n",
       "id                  0\n",
       "age                 0\n",
       "gender              0\n",
       "income              0\n",
       "days_on_platform    0\n",
       "city                0\n",
       "purchases           0\n",
       "lifetime_value      0\n",
       "dtype: int64"
      ]
     },
     "execution_count": 5,
     "metadata": {},
     "output_type": "execute_result"
    }
   ],
   "source": [
    "# Method 1: Dropping Null values\n",
    "\n",
    "drop_df = df.copy()\n",
    "drop_df = drop_df.dropna()\n",
    "drop_df.isnull().sum()"
   ]
  },
  {
   "cell_type": "code",
   "execution_count": 6,
   "id": "ab966b2a-1140-43a4-9416-054caed51f3f",
   "metadata": {},
   "outputs": [
    {
     "data": {
      "text/plain": [
       "Unnamed: 0            0\n",
       "id                    0\n",
       "age                   0\n",
       "gender                0\n",
       "income                0\n",
       "days_on_platform    141\n",
       "city                  0\n",
       "purchases             0\n",
       "lifetime_value        0\n",
       "dtype: int64"
      ]
     },
     "execution_count": 6,
     "metadata": {},
     "output_type": "execute_result"
    }
   ],
   "source": [
    "# Method 2: Mean/Median/Mode imputation\n",
    "\n",
    "imp_mean_df = df.copy()\n",
    "imp_mean_df['age'] = imp_mean_df['age'].fillna(np.mean(imp_mean_df['age']))\n",
    "imp_mean_df.isnull().sum()\n",
    "\n",
    "# Can use np.median or np.mode"
   ]
  },
  {
   "cell_type": "code",
   "execution_count": 7,
   "id": "e887f479-6a2e-480b-941b-67a7abd748e6",
   "metadata": {},
   "outputs": [
    {
     "data": {
      "text/plain": [
       "IterativeImputer(add_indicator=True, estimator=LinearRegression(),\n",
       "                 random_state=0)"
      ]
     },
     "execution_count": 7,
     "metadata": {},
     "output_type": "execute_result"
    }
   ],
   "source": [
    "# Method 3: Multiple imputation using regression\n",
    "\n",
    "reg_df = df.copy()\n",
    "x_reg = reg_df[['age', 'days_on_platform', 'income']]\n",
    "y_reg = reg_df['lifetime_value']\n",
    "\n",
    "imp_reg = IterativeImputer(estimator=LinearRegression(), random_state=0, add_indicator=True) \n",
    "# add_indicator is an indicator (dummy var.) that shows if the row is imputed or not\n",
    "imp_reg.fit(x_reg)"
   ]
  },
  {
   "cell_type": "code",
   "execution_count": 8,
   "id": "ff8c8628-02c0-4511-ba7e-aa808a73f110",
   "metadata": {},
   "outputs": [
    {
     "data": {
      "text/plain": [
       "KNNImputer()"
      ]
     },
     "execution_count": 8,
     "metadata": {},
     "output_type": "execute_result"
    }
   ],
   "source": [
    "# Method 4: Nearest Neighbor imputation\n",
    "\n",
    "nn_df = df.copy()\n",
    "x_nn = nn_df[['age', 'days_on_platform', 'income']]\n",
    "y_nn = nn_df['lifetime_value']\n",
    "\n",
    "imp_nn = KNNImputer(n_neighbors=5, weights='uniform')\n",
    "# n_neighbors=5: Means for this Null value, we are looking at the 5 closest values for imputation\n",
    "# weights='uniform': Means weigh them equally, but can use 'distance' as well.\n",
    "imp_nn.fit(x_nn)"
   ]
  },
  {
   "cell_type": "code",
   "execution_count": null,
   "id": "13347ff0-8162-4699-8f35-8d05d9134a1c",
   "metadata": {},
   "outputs": [],
   "source": []
  }
 ],
 "metadata": {
  "kernelspec": {
   "display_name": "PythonData",
   "language": "python",
   "name": "pythondata"
  },
  "language_info": {
   "codemirror_mode": {
    "name": "ipython",
    "version": 3
   },
   "file_extension": ".py",
   "mimetype": "text/x-python",
   "name": "python",
   "nbconvert_exporter": "python",
   "pygments_lexer": "ipython3",
   "version": "3.9.18"
  }
 },
 "nbformat": 4,
 "nbformat_minor": 5
}
