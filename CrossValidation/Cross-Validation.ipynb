{
 "cells": [
  {
   "cell_type": "code",
   "execution_count": 1,
   "id": "f3fb53ae-3958-4e54-8a79-24cc81a8d1c9",
   "metadata": {},
   "outputs": [],
   "source": [
    "# Load libraries\n",
    "\n",
    "import numpy as np\n",
    "import pandas as pd\n",
    "import matplotlib.pyplot as plt\n",
    "from sklearn.metrics import average_precision_score\n",
    "from sklearn.ensemble import RandomForestClassifier"
   ]
  },
  {
   "cell_type": "code",
   "execution_count": 2,
   "id": "32c762ba-3df9-47c3-bb3b-c1587c873f5a",
   "metadata": {},
   "outputs": [
    {
     "data": {
      "text/html": [
       "<div>\n",
       "<style scoped>\n",
       "    .dataframe tbody tr th:only-of-type {\n",
       "        vertical-align: middle;\n",
       "    }\n",
       "\n",
       "    .dataframe tbody tr th {\n",
       "        vertical-align: top;\n",
       "    }\n",
       "\n",
       "    .dataframe thead th {\n",
       "        text-align: right;\n",
       "    }\n",
       "</style>\n",
       "<table border=\"1\" class=\"dataframe\">\n",
       "  <thead>\n",
       "    <tr style=\"text-align: right;\">\n",
       "      <th></th>\n",
       "      <th>Unnamed: 0</th>\n",
       "      <th>Unnamed: 0.1</th>\n",
       "      <th>step</th>\n",
       "      <th>type</th>\n",
       "      <th>amount</th>\n",
       "      <th>nameOrig</th>\n",
       "      <th>oldbalanceOrg</th>\n",
       "      <th>newbalanceOrig</th>\n",
       "      <th>nameDest</th>\n",
       "      <th>oldbalanceDest</th>\n",
       "      <th>newbalanceDest</th>\n",
       "      <th>isFraud</th>\n",
       "      <th>isFlaggedFraud</th>\n",
       "      <th>date</th>\n",
       "    </tr>\n",
       "  </thead>\n",
       "  <tbody>\n",
       "    <tr>\n",
       "      <th>0</th>\n",
       "      <td>2</td>\n",
       "      <td>2</td>\n",
       "      <td>1</td>\n",
       "      <td>TRANSFER</td>\n",
       "      <td>181.0</td>\n",
       "      <td>C1305486145</td>\n",
       "      <td>181.0</td>\n",
       "      <td>0.0</td>\n",
       "      <td>C553264065</td>\n",
       "      <td>0.0</td>\n",
       "      <td>0.0</td>\n",
       "      <td>1</td>\n",
       "      <td>0</td>\n",
       "      <td>2021-11-27</td>\n",
       "    </tr>\n",
       "    <tr>\n",
       "      <th>1</th>\n",
       "      <td>3</td>\n",
       "      <td>3</td>\n",
       "      <td>1</td>\n",
       "      <td>CASH_OUT</td>\n",
       "      <td>181.0</td>\n",
       "      <td>C840083671</td>\n",
       "      <td>181.0</td>\n",
       "      <td>0.0</td>\n",
       "      <td>C38997010</td>\n",
       "      <td>21182.0</td>\n",
       "      <td>0.0</td>\n",
       "      <td>1</td>\n",
       "      <td>0</td>\n",
       "      <td>2021-01-01</td>\n",
       "    </tr>\n",
       "    <tr>\n",
       "      <th>2</th>\n",
       "      <td>251</td>\n",
       "      <td>251</td>\n",
       "      <td>1</td>\n",
       "      <td>TRANSFER</td>\n",
       "      <td>2806.0</td>\n",
       "      <td>C1420196421</td>\n",
       "      <td>2806.0</td>\n",
       "      <td>0.0</td>\n",
       "      <td>C972765878</td>\n",
       "      <td>0.0</td>\n",
       "      <td>0.0</td>\n",
       "      <td>1</td>\n",
       "      <td>0</td>\n",
       "      <td>2021-03-28</td>\n",
       "    </tr>\n",
       "  </tbody>\n",
       "</table>\n",
       "</div>"
      ],
      "text/plain": [
       "   Unnamed: 0  Unnamed: 0.1  step      type  amount     nameOrig  \\\n",
       "0           2             2     1  TRANSFER   181.0  C1305486145   \n",
       "1           3             3     1  CASH_OUT   181.0   C840083671   \n",
       "2         251           251     1  TRANSFER  2806.0  C1420196421   \n",
       "\n",
       "   oldbalanceOrg  newbalanceOrig    nameDest  oldbalanceDest  newbalanceDest  \\\n",
       "0          181.0             0.0  C553264065             0.0             0.0   \n",
       "1          181.0             0.0   C38997010         21182.0             0.0   \n",
       "2         2806.0             0.0  C972765878             0.0             0.0   \n",
       "\n",
       "   isFraud  isFlaggedFraud        date  \n",
       "0        1               0  2021-11-27  \n",
       "1        1               0  2021-01-01  \n",
       "2        1               0  2021-03-28  "
      ]
     },
     "execution_count": 2,
     "metadata": {},
     "output_type": "execute_result"
    }
   ],
   "source": [
    "# Load data\n",
    "\n",
    "df = pd.read_csv('Fraud_data.csv')\n",
    "df.head(3)"
   ]
  },
  {
   "cell_type": "code",
   "execution_count": 3,
   "id": "c27e54d4-f72f-4bcb-ba14-0c81c445224c",
   "metadata": {},
   "outputs": [],
   "source": [
    "# Split X and y\n",
    "\n",
    "features = ['amount', 'oldbalanceOrg', 'newbalanceOrig', 'oldbalanceDest', 'newbalanceDest']\n",
    "\n",
    "X = df[features]\n",
    "y = df['isFraud']"
   ]
  },
  {
   "cell_type": "code",
   "execution_count": 4,
   "id": "8fb1339c-409d-45b7-b6f1-266c9d9b3e65",
   "metadata": {},
   "outputs": [
    {
     "name": "stdout",
     "output_type": "stream",
     "text": [
      "0.937078068417773\n"
     ]
    }
   ],
   "source": [
    "# Method 1: Train-Test Split\n",
    "\n",
    "from sklearn.model_selection import train_test_split\n",
    "\n",
    "X_train, X_test, y_train, y_test = train_test_split(X, y, test_size=0.33, random_state=42)\n",
    "\n",
    "model = RandomForestClassifier()\n",
    "model.fit(X_train, y_train)\n",
    "y_preds = model.predict(X_test)\n",
    "\n",
    "print(average_precision_score(y_preds, y_test))"
   ]
  },
  {
   "cell_type": "code",
   "execution_count": 5,
   "id": "a90d4cc5-33ad-42ee-8bbd-a7feefcc40a0",
   "metadata": {},
   "outputs": [
    {
     "data": {
      "text/plain": [
       "0.9220700066942599"
      ]
     },
     "execution_count": 5,
     "metadata": {},
     "output_type": "execute_result"
    }
   ],
   "source": [
    "# Method 2: K-Fold Cross Validation\n",
    "\n",
    "from sklearn.model_selection import KFold\n",
    "\n",
    "kf = KFold(n_splits=2, shuffle = True, random_state = 42)\n",
    "kf. get_n_splits(X)\n",
    "\n",
    "folds = {}\n",
    "scores = []\n",
    "\n",
    "for train, test in kf.split(X):\n",
    "    \n",
    "    # Fold\n",
    "    fold_number = 1\n",
    "    \n",
    "    # Store fold number\n",
    "    folds [fold_number] = (df.iloc[train], df.iloc[test])\n",
    "    \n",
    "    # Create training and testing sets\n",
    "    X_train = df.iloc[train][features]\n",
    "    y_train = df.iloc[train]['isFraud']\n",
    "    X_test = df.iloc[test][features]\n",
    "    y_test = df.iloc[test]['isFraud']\n",
    "\n",
    "    model = RandomForestClassifier()\n",
    "    model.fit(X_train, y_train)\n",
    "    y_preds = model.predict (X_test)\n",
    "    \n",
    "    pr_auc = average_precision_score(y_preds, y_test)\n",
    "    scores.append(pr_auc)\n",
    "    \n",
    "    fold_number += 1\n",
    "\n",
    "np.mean(scores)"
   ]
  },
  {
   "cell_type": "code",
   "execution_count": 6,
   "id": "2135c2e5-49d7-49ee-ac6b-f54f7e743072",
   "metadata": {},
   "outputs": [
    {
     "name": "stdout",
     "output_type": "stream",
     "text": [
      "0.9936698935802835\n"
     ]
    }
   ],
   "source": [
    "# Also we can calculate score via cross_val_score\n",
    "\n",
    "from sklearn.model_selection import cross_val_score\n",
    "\n",
    "model = RandomForestClassifier()\n",
    "scores = cross_val_score(model, X, y, scoring='accuracy', cv=kf, n_jobs=-1)\n",
    "\n",
    "print(np.mean(scores))"
   ]
  },
  {
   "cell_type": "code",
   "execution_count": 7,
   "id": "e46d016a-a132-4f42-a0ea-f12e124ff009",
   "metadata": {},
   "outputs": [
    {
     "data": {
      "text/plain": [
       "0.9766666666666667"
      ]
     },
     "execution_count": 7,
     "metadata": {},
     "output_type": "execute_result"
    }
   ],
   "source": [
    "# Method 3: Leave One Out Cross Validation (LOOCV)\n",
    "\n",
    "from sklearn.model_selection import LeaveOneOut \n",
    "from sklearn.metrics import accuracy_score \n",
    "from sklearn.utils import shuffle\n",
    "\n",
    "df = shuffle(df)\n",
    "X = df[features]\n",
    "y = df['isFraud']\n",
    "\n",
    "loo = LeaveOneOut()\n",
    "loo.get_n_splits(X)\n",
    "\n",
    "all_preds = []\n",
    "\n",
    "for train_index, test_index in loo.split(X[8000:8300]) :\n",
    "#    print (\"TRAIN:\", train_index, \"TEST:\", test_index)\n",
    "    \n",
    "    X_train, X_test = X.iloc[train_index], X.iloc[test_index]\n",
    "    y_train, y_test = y.iloc[train_index], y.iloc[test_index]\n",
    "                                                  \n",
    "    model = RandomForestClassifier()\n",
    "    model.fit(X_train, y_train)\n",
    "    y_preds = model.predict(X_test)\n",
    "    \n",
    "    correct = y_preds[0] == y_test.values[0]\n",
    "    \n",
    "    all_preds.append(correct)\n",
    "\n",
    "np.mean(all_preds)"
   ]
  },
  {
   "cell_type": "code",
   "execution_count": 8,
   "id": "dee86663-3fae-4e3f-82f1-cebbc4947431",
   "metadata": {},
   "outputs": [
    {
     "name": "stdout",
     "output_type": "stream",
     "text": [
      "0.9266947146761165\n"
     ]
    }
   ],
   "source": [
    "# Method 4: Date/Time Train-Test Split \n",
    "\n",
    "DATE = '2021-12-31'\n",
    "\n",
    "train_df = df[df['date'] < DATE].copy()\n",
    "test_df = df[df['date'] >= DATE].copy()\n",
    "\n",
    "X_train = train_df[features]\n",
    "X_test = test_df[features]\n",
    "\n",
    "y_train = train_df['isFraud']\n",
    "y_test = test_df['isFraud']\n",
    "\n",
    "\n",
    "model = RandomForestClassifier()\n",
    "\n",
    "model.fit(X_train, y_train)\n",
    "y_preds = model.predict(X_test)\n",
    "\n",
    "print(average_precision_score(y_preds, y_test))"
   ]
  },
  {
   "cell_type": "code",
   "execution_count": 9,
   "id": "8ff137e2-abf7-4315-9928-a4730d73473f",
   "metadata": {},
   "outputs": [
    {
     "name": "stdout",
     "output_type": "stream",
     "text": [
      "[0.8640978789556163, 0.9078894606032781, 0.929579424475134, 0.9293334032300601, 0.9307670955133693]\n"
     ]
    }
   ],
   "source": [
    "# Method 5: Sliding Window/Time Series K-Fold\n",
    "\n",
    "## Jan 1 to Jan 30 2022 - Training Set, Feb 1 to Feb 30 - Testing Set\n",
    "## Jan 2 to Feb 2 - Training, Feb 2 to Feb 30 - Testing Set \n",
    "## Jan 3 to Feb 3 - Training, Feb 3 to Feb 30 - Testing Set\n",
    "## Window of 30 days -> Sliding it across time\n",
    "\n",
    "from sklearn.model_selection import TimeSeriesSplit\n",
    "\n",
    "tscv = TimeSeriesSplit()\n",
    "\n",
    "all_scores = []\n",
    "\n",
    "for train_index, test_index in tscv.split(X):\n",
    "#     print(\"TRAIN:\", train_index, \"TEST:\", test_index)\n",
    "    X_train, X_test = X.iloc[train_index], X.iloc[test_index]\n",
    "    y_train, y_test = y.iloc[train_index], y.iloc[test_index]\n",
    "    \n",
    "    model = RandomForestClassifier()\n",
    "\n",
    "    model.fit(X_train, y_train)\n",
    "    y_preds = model.predict(X_test)\n",
    "\n",
    "    pr_auc = average_precision_score(y_preds, y_test)\n",
    "    \n",
    "    all_scores.append(pr_auc)\n",
    "    \n",
    "    \n",
    "print(all_scores)"
   ]
  },
  {
   "cell_type": "code",
   "execution_count": 10,
   "id": "3f52c0c4-f0f0-444b-85ba-9af5838a075e",
   "metadata": {},
   "outputs": [
    {
     "data": {
      "text/plain": [
       "<generator object ExpandingWindowCV.split at 0x7fc380b29c80>"
      ]
     },
     "execution_count": 10,
     "metadata": {},
     "output_type": "execute_result"
    }
   ],
   "source": [
    "# Method 6: Expanding Window\n",
    "\n",
    "## Jan 1 to Jan 30 2022 - Training Set, Feb 1 to Feb 30 - Testing Set - 30 days of training data\n",
    "## Jan 1 to Feb 2 - Training, Feb 2 to Feb 30 - Testing Set - 31 days of training data\n",
    "## Jan 1 to Feb 3 - Training, Feb 3 to Feb 30 - Testing Set - 31 days of training data\n",
    "## Training data increases over time\n",
    "\n",
    "from sklearn.model_selection import TimeSeriesSplit\n",
    "\n",
    "class ExpandingWindowCV:\n",
    "    def fit(self, date_col, date_range = None, custom_range = None):\n",
    "        self.date_col = date_col\n",
    "        self.date_range = date_range\n",
    "        self.custom_range = custom_range\n",
    "        \n",
    "        if date_range is not None and custom_range is not None:\n",
    "            raise ValueError(\"Date Range and Custom Range both cannot be None.\")\n",
    "    \n",
    "    def split(self, df):\n",
    "        if self.date_range is None:         \n",
    "            dates = list(set(df[self.date_col].astype(str).values))\n",
    "        \n",
    "        if self.date_range is not None:\n",
    "            dates = pd.date_range(start=self.date_range[0], end=self.date_range[1])\n",
    "            dates = [str(d.date()) for d in dates]\n",
    "        \n",
    "        if self.custom_range is not None:\n",
    "            dates = self.custom_range\n",
    "            \n",
    "        for d in dates:\n",
    "            df_train = df[df[self.date_col].astype(str) <= d].copy()\n",
    "            df_test = df[df[self.date_col].astype(str) > d].copy()\n",
    "            yield df_train, df_test\n",
    "            \n",
    "ew = ExpandingWindowCV()\n",
    "ew.fit(date_col = 'date', date_range = ['2022-01-02','2022-01-08'])\n",
    "ew.split(df)"
   ]
  },
  {
   "cell_type": "code",
   "execution_count": 11,
   "id": "7edc0e97-c7e9-4cc3-a2cd-0fa6219b9e18",
   "metadata": {},
   "outputs": [
    {
     "data": {
      "text/plain": [
       "[0.9252896540778948,\n",
       " 0.9257400752205791,\n",
       " 0.9241408931790137,\n",
       " 0.9263279581758166,\n",
       " 0.9261284824305607,\n",
       " 0.9240985945903226,\n",
       " 0.9203492956477464]"
      ]
     },
     "execution_count": 11,
     "metadata": {},
     "output_type": "execute_result"
    }
   ],
   "source": [
    "all_scores = []\n",
    "\n",
    "for train_df, test_df in ew.split(df):\n",
    "    X_train = train_df[features]\n",
    "    X_test = test_df[features]\n",
    "\n",
    "    y_train = train_df['isFraud']\n",
    "    y_test = test_df['isFraud']\n",
    "\n",
    "\n",
    "    model = RandomForestClassifier()\n",
    "\n",
    "    model.fit(X_train, y_train)\n",
    "    y_preds = model.predict(X_test)\n",
    "\n",
    "    pr_auc = average_precision_score(y_preds, y_test)\n",
    "    \n",
    "    all_scores.append(pr_auc)\n",
    "    \n",
    "all_scores"
   ]
  },
  {
   "cell_type": "code",
   "execution_count": 12,
   "id": "a8578750-dbb5-4d8b-846c-781acb90b190",
   "metadata": {},
   "outputs": [
    {
     "data": {
      "text/plain": [
       "[0.9379626251061677,\n",
       " 0.9261918463573187,\n",
       " 0.9337765077816722,\n",
       " 0.9240854814387397,\n",
       " 0.9341527463142527]"
      ]
     },
     "execution_count": 12,
     "metadata": {},
     "output_type": "execute_result"
    }
   ],
   "source": [
    "# Method 7: Monte Carlo Cross Validation\n",
    "\n",
    "from sklearn.model_selection import ShuffleSplit\n",
    "\n",
    "rs = ShuffleSplit(n_splits=5, test_size=.25, random_state=0)\n",
    "rs.get_n_splits(df)\n",
    "\n",
    "all_scores = []\n",
    "for train_index, test_index in rs.split(df):\n",
    "#     print(\"TRAIN:\", train_index, \"TEST:\", test_index)\n",
    "\n",
    "    X_train, X_test = X.iloc[train_index], X.iloc[test_index]\n",
    "    y_train, y_test = y.iloc[train_index], y.iloc[test_index]\n",
    "    \n",
    "    model = RandomForestClassifier()\n",
    "\n",
    "    model.fit(X_train, y_train)\n",
    "    y_preds = model.predict(X_test)\n",
    "\n",
    "    pr_auc = average_precision_score(y_preds, y_test)\n",
    "    \n",
    "    all_scores.append(pr_auc)\n",
    "\n",
    "all_scores"
   ]
  },
  {
   "cell_type": "code",
   "execution_count": null,
   "id": "7ab20e94-8175-42d2-82e7-4e6f70b563e9",
   "metadata": {},
   "outputs": [],
   "source": []
  }
 ],
 "metadata": {
  "kernelspec": {
   "display_name": "PythonData",
   "language": "python",
   "name": "pythondata"
  },
  "language_info": {
   "codemirror_mode": {
    "name": "ipython",
    "version": 3
   },
   "file_extension": ".py",
   "mimetype": "text/x-python",
   "name": "python",
   "nbconvert_exporter": "python",
   "pygments_lexer": "ipython3",
   "version": "3.9.18"
  }
 },
 "nbformat": 4,
 "nbformat_minor": 5
}
